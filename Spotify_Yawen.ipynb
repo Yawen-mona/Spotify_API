{
 "cells": [
  {
   "cell_type": "code",
   "execution_count": 1,
   "id": "edbd5074-1a8c-455c-b328-be190b8f1625",
   "metadata": {},
   "outputs": [],
   "source": [
    "import spotipy\n",
    "import json\n",
    "import webbrowser\n",
    "import urllib.request\n",
    "import spotipy.util as util\n",
    "import nltk\n",
    "from nltk.corpus import stopwords\n",
    "from nltk import pos_tag\n",
    "import requests\n",
    "import collections"
   ]
  },
  {
   "cell_type": "code",
   "execution_count": 2,
   "id": "cdb31ef4-a5e4-4328-9072-2b33468615b1",
   "metadata": {},
   "outputs": [
    {
     "name": "stdout",
     "output_type": "stream",
     "text": [
      "IdrFt3HYePtWuqZYgzOq7xiLcqG7srs8\n"
     ]
    }
   ],
   "source": [
    "with open('ticketmaster_key.txt','r') as key_file:\n",
    "    ticketmaster_key = key_file.read()\n",
    "\n",
    "print(ticketmaster_key)"
   ]
  },
  {
   "cell_type": "code",
   "execution_count": 3,
   "id": "73ad8a9b-a2f6-478e-a98d-d4e84cc6df7d",
   "metadata": {},
   "outputs": [
    {
     "name": "stdout",
     "output_type": "stream",
     "text": [
      "https://app.ticketmaster.com/discovery/v2/events.json?classificationName=music&countryCode=GB&startDateTime=2024-11-04T00:00:00Z&endDateTime=2024-11-10T00:00:00Z&dmaId=601&size=200&apikey=IdrFt3HYePtWuqZYgzOq7xiLcqG7srs8\n"
     ]
    }
   ],
   "source": [
    "start_date = \"2024-11-04T00:00:00Z\"  \n",
    "end_date = \"2024-11-10T00:00:00Z\"    \n",
    "dma_id = 601\n",
    "url = (f\"https://app.ticketmaster.com/discovery/v2/events.json?\"\n",
    "       f\"classificationName=music&countryCode=GB&\"\n",
    "       f\"startDateTime={start_date}&endDateTime={end_date}&\"\n",
    "       f\"dmaId={dma_id}&size=200&apikey={ticketmaster_key}\")\n",
    "print(url)"
   ]
  },
  {
   "cell_type": "code",
   "execution_count": 4,
   "id": "22283e9a-0ac4-4816-b02e-1f11f3bc3045",
   "metadata": {},
   "outputs": [],
   "source": [
    "request = urllib.request.Request(url)\n",
    "response = urllib.request.urlopen(request)"
   ]
  },
  {
   "cell_type": "code",
   "execution_count": 5,
   "id": "04b4dfc9-cab4-4498-adad-df74d2cb3a5d",
   "metadata": {},
   "outputs": [],
   "source": [
    "events = json.loads(response.read())"
   ]
  },
  {
   "cell_type": "code",
   "execution_count": 6,
   "id": "1a1d39c7-0537-41bd-a700-041609dbec62",
   "metadata": {},
   "outputs": [
    {
     "name": "stdout",
     "output_type": "stream",
     "text": [
      "Event: Fruity! | That's What Makes You Fruitiful! One Direction Special, Date: 2024-11-08, Venue: Stylus\n",
      "Event: Steely Scam, Date: 2024-11-06, Venue: Southampton 1865\n",
      "Event: The Howlers, Date: 2024-11-06, Venue: Think Tank At Digital\n",
      "Event: DJ Suzy, Date: 2024-11-06, Venue: The Waiting Room\n",
      "Event: ST Lundi, Date: 2024-11-06, Venue: Ulster Sports Club \n",
      "Event: October Drift, Date: 2024-11-05, Venue: Scala\n",
      "Event: Gurriers, Date: 2024-11-06, Venue: Moth Club\n",
      "Event: Dame Area, Date: 2024-11-06, Venue: HEADROW HOUSE\n",
      "Event: Joywave, Date: 2024-11-05, Venue: Bodega Social\n",
      "Event: Judeline, Date: 2024-11-05, Venue: The Lower Third\n",
      "Event: Man Man, Date: 2024-11-05, Venue: HEADROW HOUSE\n",
      "Event: Beak>, Date: 2024-11-06, Venue: Manchester New Century Hall\n",
      "Event: Wesley Bennett, Sassy, Date: 2024-11-05, Venue: Green Note\n",
      "Event: Resavoir, Date: 2024-11-05, Venue: Band On The Wall.\n",
      "Event: Resavoir, Date: 2024-11-06, Venue: Jazz Cafe\n",
      "Event: Resavoir - Restaurant Tables, Date: 2024-11-06, Venue: Jazz Cafe\n",
      "Event: SPINN, Date: 2024-11-06, Venue: London Oslo\n",
      "Event: SPINN, Date: 2024-11-05, Venue: Thekla\n",
      "Event: Wishy, Date: 2024-11-06, Venue: YES Basement\n",
      "Event: Warmduscher, Date: 2024-11-06, Venue: Project House\n",
      "Event: The Strumbellas, Date: 2024-11-05, Venue: The Garage\n",
      "Event: Virginmarys, Date: 2024-11-05, Venue: The Cluny\n",
      "Event: Artemas, Date: 2024-11-06, Venue: TV Studio SWG3\n",
      "Event: Bob Dylan - Official VIP Ticket Experiences, Date: 2024-11-06, Venue: Usher Hall\n",
      "Event: Bob Dylan - Official VIP Ticket Experiences, Date: 2024-11-05, Venue: Usher Hall\n",
      "Event: Lindsey Stirling - the Duality Tour, Date: 2024-11-05, Venue: Glasgow Royal Concert Hall\n",
      "Event: Bob Dylan - 'Rough and Rowdy Ways', Date: 2024-11-06, Venue: Usher Hall\n",
      "Event: Bob Dylan - 'Rough and Rowdy Ways', Date: 2024-11-05, Venue: Usher Hall\n",
      "Event: Simon & Oscar, Date: 2024-11-06, Venue: The Tivoli Theatre\n",
      "Event: Pat Hamilton Plus Jasmin Jet, Date: 2024-11-06, Venue: The Poetry Club SWG3\n",
      "Event: Human Musical Group Sensations GLASS ANIMALS: TOUR OF EARTH, Date: 2024-11-05, Venue: Utilita Arena Cardiff\n",
      "Event: Marcus King: Mood Swings the World Tour, Date: 2024-11-05, Venue: Eventim Apollo\n",
      "Event: Kruelty, Date: 2024-11-06, Venue: Asylum Bar and Venue\n",
      "Event: Softcult, Date: 2024-11-06, Venue: Birmingham Flapper\n",
      "Event: Khaya + Louis Oliver + Freddie Lennox ( Acoustic ), Date: 2024-11-05, Venue: The Troubadour\n",
      "Event: Sharper Side, No Rest for the Spacemen, Motion, Mania, Date: 2024-11-06, Venue: Horn @ St Albans\n",
      "Event: Nick Cave & the Bad Seeds : The Wild God Tour, Date: 2024-11-06, Venue: Utilita Arena Cardiff\n",
      "Event: Deep Purple, Date: 2024-11-06, Venue: The O2\n",
      "Event: The Bushwick Book Club, Date: 2024-11-06, Venue: Green Note\n",
      "Event: Nuneaton Folk Club - James Delarre & Saul Rose, Date: 2024-11-06, Venue: Queens Hall\n",
      "Event: An Evening with James Toseland, Date: 2024-11-06, Venue: Metronome Nottingham\n",
      "Event: Kruelty, Date: 2024-11-05, Venue: Nottingham Rescue Rooms\n",
      "Event: Sinkane, Date: 2024-11-05, Venue: Moth Club\n",
      "Event: The Felice Brothers, Date: 2024-11-06, Venue: The Globe\n",
      "Event: The Bluetones, Date: 2024-11-06, Venue: hmv Empire\n",
      "Event: Aurelio Voltaire, Date: 2024-11-06, Venue: Newhampton Arts Centre\n",
      "Event: The Lighthouse Shoreditch // Every Wednesday // Afrobeats, Bashment, S, Date: 2024-11-06, Venue: The Lighthouse Bar & Club\n",
      "Event: The Lighthouse Shoreditch // Every Tuesday // Afrobeats, Bashment, Sex, Date: 2024-11-05, Venue: The Lighthouse Bar & Club\n",
      "Event: Ryan McMullan, Date: 2024-11-05, Venue: The Poetry Club SWG3\n",
      "Event: Focus, Date: 2024-11-06, Venue: Backstage at The Green Hotel\n",
      "Event: Scouting For Girls, Date: 2024-11-05, Venue: Fat Sam's Live\n",
      "Event: Scouting for Girls, Date: 2024-11-06, Venue: The Lemon Tree\n",
      "Event: Jane McDonald, Date: 2024-11-06, Venue: Sheffield City Hall Oval Hall\n",
      "Event: The Ultimate Boyband Party Show, Date: 2024-11-05, Venue: New Wimbledon Theatre\n",
      "Event: The Ultimate Boyband Party Show, Date: 2024-11-06, Venue: Wycombe Swan Theatre\n",
      "Event: Aimee Carty, Date: 2024-11-06, Venue: O2 Academy2 Islington\n",
      "Event: Amyl and the Sniffers, Date: 2024-11-06, Venue: O2 Academy Glasgow\n",
      "Event: Faithless, Date: 2024-11-06, Venue: O2 City Hall Newcastle\n",
      "Event: Soil, Date: 2024-11-05, Venue: O2 Academy Bristol\n",
      "Event: Warmduscher, Date: 2024-11-05, Venue: O2 Academy2 Oxford\n",
      "Event: The Australian Pink Floyd, Date: 2024-11-05, Venue: De Montfort Hall\n",
      "Event: Joywave, Date: 2024-11-06, Venue: Scala\n",
      "Event: Champagne For Lulu, Date: 2024-11-06, Venue: Royal Concert Hall Nottingham\n",
      "Event: Amy Wadge, Date: 2024-11-06, Venue: Brangwyn Hall\n",
      "Event: Switchfoot - The Beautiful Letdown World Tour, Date: 2024-11-06, Venue: Manchester Academy 2\n",
      "Event: Marcus King: Mood Swings the World Tour, Date: 2024-11-06, Venue: Albert Hall\n",
      "Event: Blossoms, Date: 2024-11-05, Venue: Brighton Dome\n",
      "Event: Soil, Date: 2024-11-06, Venue: Electric Ballroom\n",
      "Event: Cordelia, Date: 2024-11-06, Venue: Louisiana\n",
      "Event: Robert Plant with Saving Grace, Date: 2024-11-05, Venue: The Royal Hall\n",
      "Event: Robert Plant with Saving Grace, Date: 2024-11-06, Venue: Stockton Globe\n",
      "Event: Nick Cave & the Bad Seeds : The Wild God Tour, Date: 2024-11-05, Venue: AO Arena\n",
      "Event: Kids In Glass Houses, Date: 2024-11-06, Venue: Waterfront\n",
      "Event: The Hunna, Date: 2024-11-05, Venue: The Booking Hall\n",
      "Event: Focus, Date: 2024-11-07, Venue: Oran Mor\n",
      "Event: Band Of Friends, Date: 2024-11-07, Venue: Backstage at The Green Hotel\n",
      "Event: Gurriers, Date: 2024-11-07, Venue: Hyde Park Book Club\n",
      "Event: Shannon & the Clams, Date: 2024-11-07, Venue: YES (Pink Room)\n",
      "Event: The Vapors, Date: 2024-11-07, Venue: Southampton 1865\n",
      "Event: Nashville Pussy, Date: 2024-11-07, Venue: New Cross Inn\n",
      "Event: Beak>, Date: 2024-11-07, Venue: Saint Luke's\n",
      "Event: Vanessa Moreno, Date: 2024-11-07, Venue: Forge\n",
      "Event: NOAHFINNCE, Date: 2024-11-07, Venue: The Mill\n",
      "Event: SPINN, Date: 2024-11-07, Venue: Bodega Social\n",
      "Event: Millie Manders & the Shutup, Date: 2024-11-07, Venue: The Cluny\n",
      "Event: Gilby Clarke, Date: 2024-11-07, Venue: Rebellion Manchester\n",
      "Event: The Hot Damn!, Date: 2024-11-07, Venue: Cluny 2\n",
      "Event: Fox Gunn, Date: 2024-11-07, Venue: Colours Hoxton\n",
      "Event: The Virginmarys, Date: 2024-11-07, Venue: Waterfront\n",
      "Event: Champagne For Lulu, Date: 2024-11-07, Venue: Connexin Live\n",
      "Event: Everybody Dance with Claire Richards, Date: 2024-11-07, Venue: Bath Pavilion\n",
      "Event: Grayling, Date: 2024-11-07, Venue: Cabaret Voltaire\n",
      "Event: Simon & Oscar, Date: 2024-11-07, Venue: Whitehall Theatre\n",
      "Event: Conan Gray - Found Heaven On Tour, Date: 2024-11-07, Venue: O2 Apollo Manchester\n",
      "Event: Marcus King: Mood Swings the World Tour, Date: 2024-11-07, Venue: Barrowland Ballroom\n",
      "Event: Escape Route, Blueshift, Dan Thomas, Date: 2024-11-07, Venue: Horn @ St Albans\n",
      "Event: GRLwood, Date: 2024-11-07, Venue: London Oslo\n",
      "Event: DEADLETTER, Date: 2024-11-07, Venue: Nottingham Rescue Rooms\n",
      "Event: BIG WETT, Date: 2024-11-07, Venue: HEADROW HOUSE\n",
      "Event: The Overtones, Date: 2024-11-07, Venue: Sheffield City Hall Oval Hall\n",
      "Event: Human Musical Group Sensations GLASS ANIMALS: TOUR OF EARTH, Date: 2024-11-07, Venue: The O2\n",
      "Event: Softcult, Date: 2024-11-07, Venue: King Tuts Wah Wah Hut\n",
      "Event: The Felice Brothers, Date: 2024-11-07, Venue: Electric Ballroom\n",
      "Event: Cargo Manchester // Every Thursday // House, RNB, Hip Hop, Club Classi, Date: 2024-11-07, Venue: Cargo Manchester\n",
      "Event: The Lighthouse Shoreditch // Every Thursday // Afrobeats, Bashment, Se, Date: 2024-11-07, Venue: The Lighthouse Bar & Club\n",
      "Event: Kim Churchill, Date: 2024-11-07, Venue: Thekla\n",
      "Event: Skids / Spear of Destiny, Date: 2024-11-07, Venue: The Welly Club\n",
      "Event: The Watch, Date: 2024-11-07, Venue: Kendal Brewery Arts Centre\n",
      "Event: ABBA Voyage, Date: 2024-11-07, Venue: ABBA Arena\n",
      "Event: Whitney Queen of the Night, Date: 2024-11-07, Venue: Chatham Central Theatre\n",
      "Event: Jane McDonald, Date: 2024-11-07, Venue: O2 City Hall Newcastle\n",
      "Event: Switchfoot The Beautiful Letdown World Tour, Date: 2024-11-07, Venue: O2 Institute Birmingham\n",
      "Event: Faithless, Date: 2024-11-07, Venue: O2 Academy Birmingham\n",
      "Event: Indie Thursday, Date: 2024-11-07, Venue: O2 Academy Leeds\n",
      "Event: Los Bitchos, Date: 2024-11-07, Venue: O2 Forum Kentish Town\n",
      "Event: Warmduscher, Date: 2024-11-07, Venue: O2 Ritz Manchester\n",
      "Event: The Ultimate Boyband Party Show, Date: 2024-11-07, Venue: Town Hall Birmingham\n",
      "Event: Hue and Cry 40th Anniversary Full Band Tour 2024, Date: 2024-11-07, Venue: RNCM Theatre\n",
      "Event: The Australian Pink Floyd, Date: 2024-11-07, Venue: Plymouth Pavilions\n",
      "Event: Amyl and the Sniffers, Date: 2024-11-07, Venue: NX\n",
      "Event: Blossoms, Date: 2024-11-07, Venue: Portsmouth Guildhall\n",
      "Event: Deep Purple = 1 More Time Tour, Date: 2024-11-07, Venue: First Direct Arena\n",
      "Event: Jack Jones, Date: 2024-11-07, Venue: YES Basement\n",
      "Event: Kids In Glass Houses, Date: 2024-11-07, Venue: Stylus\n",
      "Event: Simon & Oscar, Date: 2024-11-08, Venue: Stirling Albert Halls\n",
      "Event: Kasabian, Date: 2024-11-08, Venue: bp pulse LIVE\n",
      "Event: London Calling Play the Clash, Date: 2024-11-08, Venue: Brudenell Social Club\n",
      "Event: Gurriers, Date: 2024-11-08, Venue: YES Basement\n",
      "Event: Favourite Days Festival - Saloon Dion, Date: 2024-11-08, Venue: Heebie Jeebies\n",
      "Event: Anchor Lane + Support, Date: 2024-11-08, Venue: Krakatoa\n",
      "Event: Beak>, Date: 2024-11-08, Venue: Brudenell Social Club\n",
      "Event: Secret Affair, Date: 2024-11-08, Venue: The Sugarmill\n",
      "Event: Joe Goddard, Date: 2024-11-08, Venue: King Tuts Wah Wah Hut\n",
      "Event: Gilby Clarke, Date: 2024-11-08, Venue: Asylum Bar and Venue\n",
      "Event: UPSAHL, Date: 2024-11-08, Venue: G2 (Glasgow Garage)\n",
      "Event: Edwin Raphael, Date: 2024-11-08, Venue: St Pancras Old Church\n",
      "Event: Bob Dylan - Rough and Rowdy Ways, Date: 2024-11-08, Venue: Motorpoint Arena Nottingham\n",
      "Event: Partygate - Night 2, Date: 2024-11-08, Venue: The Poetry Club SWG3\n",
      "Event: Conan Gray - Found Heaven On Tour, Date: 2024-11-08, Venue: O2 Apollo Manchester\n",
      "Event: Taylored Swift, Date: 2024-11-08, Venue: Hertford Corn Exchange\n",
      "Event: Stone Foundation, Date: 2024-11-08, Venue: The Crossing Digbeth\n",
      "Event: Blackout Problems, Date: 2024-11-08, Venue: Latest Musicbar\n",
      "Event: Soil + Hed Pe + Nonpoint + the Union Underground, Date: 2024-11-08, Venue: KK's Steel Mill\n",
      "Event: Cargo Manchester - Every Friday - Get Me In!, Date: 2024-11-08, Venue: Cargo Manchester\n",
      "Event: Greig Taylor & Bison Hip, Date: 2024-11-08, Venue: Backstage at The Green Hotel\n",
      "Event: Hung Like Hanratty, Date: 2024-11-08, Venue: Southampton 1865\n",
      "Event: TVP + Magdala + Oriana Robos + Chess, Date: 2024-11-08, Venue: The Troubadour\n",
      "Event: The Clockworks, Date: 2024-11-08, Venue: The Garage\n",
      "Event: Nick Cave and the Bad Seeds - VIP Packages, Date: 2024-11-08, Venue: The O2\n",
      "Event: Nick Cave & the Bad Seeds : The Wild God Tour, Date: 2024-11-08, Venue: The O2\n",
      "Event: Steph Strings, Date: 2024-11-08, Venue: Lafayette\n",
      "Event: The Dirt Road Band, Date: 2024-11-08, Venue: The Flowerpot\n",
      "Event: PROJECTOR, Date: 2024-11-08, Venue: The Lexington\n",
      "Event: 7d7d, Date: 2024-11-08, Venue: Underworld\n",
      "Event: DEADLETTER, Date: 2024-11-08, Venue: Band On The Wall.\n",
      "Event: Zeke, Date: 2024-11-08, Venue: New Cross Inn\n",
      "Event: Kim Churchill, Date: 2024-11-08, Venue: Manchester The Deaf Institute.\n",
      "Event: Noasis - Fri 8th Nov, Date: 2024-11-08, Venue: The Brook\n",
      "Event: Balaam and The Angel, Date: 2024-11-08, Venue: Leamington Spa Assembly\n",
      "Event: Carson Coma, Date: 2024-11-08, Venue: London Oslo\n",
      "Event: Reelin' In the Dan (A Tribute To Steely Dan), Date: 2024-11-08, Venue: Leadmill\n",
      "Event: Znouzectnost (CZ) + Supports: First Ever Uk Show!!!, Date: 2024-11-08, Venue: Cart & Horses\n",
      "Event: Cardinal Black, Date: 2024-11-08, Venue: Bath Komedia\n",
      "Event: Hometown Glory - a Tribute To Adele By Natalie Black, Date: 2024-11-08, Venue: Queens Hall\n",
      "Event: Aurelio Voltaire, Date: 2024-11-08, Venue: Rebellion Manchester\n",
      "Event: Goldie Lookin' Chain, Date: 2024-11-08, Venue: Queens Hall\n",
      "Event: The Australian Pink Floyd Show, Date: 2024-11-08, Venue: Utilita Arena Cardiff\n",
      "Event: Sensational 60's Experience, Date: 2024-11-08, Venue: Playhouse, Whitley Bay\n",
      "Event: Sensational 60's Experience - Suite Experience, Date: 2024-11-08, Venue: Playhouse, Whitley Bay\n",
      "Event: Whitby Rocks 2024, Date: 2024-11-08, Venue: Whitby Pavilion Northern Lights Suite\n",
      "Event: ABBA Voyage, Date: 2024-11-08, Venue: ABBA Arena\n",
      "Event: Kruelty, Date: 2024-11-08, Venue: O2 Academy2 Oxford\n",
      "Event: Blossoms, Date: 2024-11-08, Venue: O2 Academy Bournemouth\n",
      "Event: The Bluetones, Date: 2024-11-08, Venue: O2 Academy Oxford\n",
      "Event: The Kairos, Date: 2024-11-08, Venue: O2 Academy Liverpool\n",
      "Event: Griff, Date: 2024-11-08, Venue: O2 Academy Glasgow\n",
      "Event: Bradley Simpson, Date: 2024-11-08, Venue: O2 Institute2 Birmingham\n",
      "Event: \"Setting Sons\" 45th Anniversary Tour, Date: 2024-11-08, Venue: O2 Academy Leicester\n",
      "Event: The Orb + Ozric Tentacles, Date: 2024-11-08, Venue: O2 Ritz Manchester\n",
      "Event: The Real People, Date: 2024-11-08, Venue: O2 Academy2 Islington\n",
      "Event: Lightning Seeds, Date: 2024-11-08, Venue: Octagon\n",
      "Event: Scouting for Girls, Date: 2024-11-08, Venue: University of Wolverhampton at The Civic Hall\n",
      "Event: Hue and Cry 40th Anniversary Full Band Tour 2024, Date: 2024-11-08, Venue: Town Hall Birmingham\n",
      "Event: The Mersey Beatles: 60th Anniversary of A Hard Day's Night, Date: 2024-11-08, Venue: Blackpool Opera House\n",
      "Event: Ron Sexsmith - Sexsmith at Sixty, Date: 2024-11-08, Venue: RNCM Theatre\n",
      "Event: Rachel Chinouriri, Date: 2024-11-08, Venue: The Globe\n",
      "Event: Amy Wadge, Date: 2024-11-08, Venue: Brangwyn Hall\n",
      "Event: Softcult, Date: 2024-11-08, Venue: Night and Day\n",
      "Event: Cordelia, Date: 2024-11-08, Venue: St Matthias Church\n",
      "Event: Liz Lawrence, Date: 2024-11-08, Venue: YES (Pink Room)\n",
      "Event: Swiftogeddon - The Taylor Themed Club Night - Lincoln, Date: 2024-11-08, Venue: Engine Shed\n",
      "Event: THE SKIDS : 'Days in Europa' 45th Anniversary Tour, Date: 2024-11-08, Venue: Y PLAS\n",
      "Event: Swiftogeddon - The Taylor Themed Club Night - Liverpool, Date: 2024-11-08, Venue: Arts Club\n",
      "Event: Switchfoot, Date: 2024-11-08, Venue: Stylus\n",
      "Event: Quarters of Change, Date: 2024-11-08, Venue: Green Door Store\n",
      "Event: The Mojoes, Date: 2024-11-09, Venue: The Station\n",
      "Event: Shape of You, Date: 2024-11-09, Venue: Sheffield City Hall Oval Hall\n",
      "Event: London Calling Play the Clash, Date: 2024-11-09, Venue: Brudenell Social Club\n",
      "Event: The Marias, Date: 2024-11-09, Venue: SWX\n",
      "Event: Bridget Kearney, Date: 2024-11-09, Venue: The Grace, London\n"
     ]
    }
   ],
   "source": [
    "if '_embedded' in events and 'events' in events['_embedded']:\n",
    "    events_list = events['_embedded']['events']\n",
    "    \n",
    "    # Extract event names, dates, and venues filtering for O2 Arena\n",
    "    events_info = [\n",
    "        (event['name'], \n",
    "         event['dates']['start']['localDate'],  # Local date format\n",
    "         event['_embedded']['venues'][0]['name'])\n",
    "        for event in events_list \n",
    "    ]\n",
    "    \n",
    "    # Print the event details\n",
    "    if events_info:\n",
    "        for name, date, venue in events_info:\n",
    "            print(f\"Event: {name}, Date: {date}, Venue: {venue}\")"
   ]
  },
  {
   "cell_type": "code",
   "execution_count": 7,
   "id": "af63d3ca-1c75-4dbd-a9a3-2742de2240f1",
   "metadata": {},
   "outputs": [
    {
     "data": {
      "text/plain": [
       "['DJ Suzy',\n",
       " 'October Drift',\n",
       " 'Gurriers',\n",
       " 'Judeline',\n",
       " 'Wesley Bennett, Sassy',\n",
       " 'Resavoir',\n",
       " 'Resavoir - Restaurant Tables',\n",
       " 'SPINN',\n",
       " 'The Strumbellas',\n",
       " 'Marcus King: Mood Swings the World Tour',\n",
       " 'Khaya + Louis Oliver + Freddie Lennox ( Acoustic )',\n",
       " 'Deep Purple',\n",
       " 'The Bushwick Book Club',\n",
       " 'Sinkane',\n",
       " 'The Lighthouse Shoreditch // Every Wednesday // Afrobeats, Bashment, S',\n",
       " 'The Lighthouse Shoreditch // Every Tuesday // Afrobeats, Bashment, Sex',\n",
       " 'The Ultimate Boyband Party Show',\n",
       " 'Aimee Carty',\n",
       " 'Joywave',\n",
       " 'Soil',\n",
       " 'Nashville Pussy',\n",
       " 'Vanessa Moreno',\n",
       " 'Fox Gunn',\n",
       " 'GRLwood',\n",
       " 'Human Musical Group Sensations GLASS ANIMALS: TOUR OF EARTH',\n",
       " 'The Felice Brothers',\n",
       " 'The Lighthouse Shoreditch // Every Thursday // Afrobeats, Bashment, Se',\n",
       " 'ABBA Voyage',\n",
       " 'Los Bitchos',\n",
       " 'Edwin Raphael',\n",
       " 'TVP + Magdala + Oriana Robos + Chess',\n",
       " 'The Clockworks',\n",
       " 'Nick Cave and the Bad Seeds - VIP Packages',\n",
       " 'Nick Cave & the Bad Seeds : The Wild God Tour',\n",
       " 'Steph Strings',\n",
       " 'PROJECTOR',\n",
       " '7d7d',\n",
       " 'Zeke',\n",
       " 'Carson Coma',\n",
       " 'Znouzectnost (CZ) + Supports: First Ever Uk Show!!!',\n",
       " 'ABBA Voyage',\n",
       " 'The Real People',\n",
       " 'Cordelia',\n",
       " 'Bridget Kearney']"
      ]
     },
     "execution_count": 7,
     "metadata": {},
     "output_type": "execute_result"
    }
   ],
   "source": [
    "if '_embedded' in events and 'events' in events['_embedded']:\n",
    "    events_list = events['_embedded']['events']\n",
    "    \n",
    "    # Extract event names where the venue is in London\n",
    "    london_events_info = [\n",
    "        event['name']  # Collecting the event name only\n",
    "        for event in events_list\n",
    "        if 'name' in event and 'London' in event['_embedded']['venues'][0]['city']['name']\n",
    "    ]\n",
    "    \n",
    "    # No cleaning or replacing characters; directly keep the event names\n",
    "    event_names = london_events_info  # Directly assign event names without modification\n",
    "event_names"
   ]
  },
  {
   "cell_type": "code",
   "execution_count": 8,
   "id": "705ef926-8478-4d92-a229-c4e73984f0d3",
   "metadata": {},
   "outputs": [
    {
     "data": {
      "text/plain": [
       "Counter({'ABBA Voyage': 2,\n",
       "         'DJ Suzy': 1,\n",
       "         'October Drift': 1,\n",
       "         'Gurriers': 1,\n",
       "         'Judeline': 1,\n",
       "         'Wesley Bennett, Sassy': 1,\n",
       "         'Resavoir': 1,\n",
       "         'Resavoir - Restaurant Tables': 1,\n",
       "         'SPINN': 1,\n",
       "         'The Strumbellas': 1,\n",
       "         'Marcus King: Mood Swings the World Tour': 1,\n",
       "         'Khaya + Louis Oliver + Freddie Lennox ( Acoustic )': 1,\n",
       "         'Deep Purple': 1,\n",
       "         'The Bushwick Book Club': 1,\n",
       "         'Sinkane': 1,\n",
       "         'The Lighthouse Shoreditch // Every Wednesday // Afrobeats, Bashment, S': 1,\n",
       "         'The Lighthouse Shoreditch // Every Tuesday // Afrobeats, Bashment, Sex': 1,\n",
       "         'The Ultimate Boyband Party Show': 1,\n",
       "         'Aimee Carty': 1,\n",
       "         'Joywave': 1,\n",
       "         'Soil': 1,\n",
       "         'Nashville Pussy': 1,\n",
       "         'Vanessa Moreno': 1,\n",
       "         'Fox Gunn': 1,\n",
       "         'GRLwood': 1,\n",
       "         'Human Musical Group Sensations GLASS ANIMALS: TOUR OF EARTH': 1,\n",
       "         'The Felice Brothers': 1,\n",
       "         'The Lighthouse Shoreditch // Every Thursday // Afrobeats, Bashment, Se': 1,\n",
       "         'Los Bitchos': 1,\n",
       "         'Edwin Raphael': 1,\n",
       "         'TVP + Magdala + Oriana Robos + Chess': 1,\n",
       "         'The Clockworks': 1,\n",
       "         'Nick Cave and the Bad Seeds - VIP Packages': 1,\n",
       "         'Nick Cave & the Bad Seeds : The Wild God Tour': 1,\n",
       "         'Steph Strings': 1,\n",
       "         'PROJECTOR': 1,\n",
       "         '7d7d': 1,\n",
       "         'Zeke': 1,\n",
       "         'Carson Coma': 1,\n",
       "         'Znouzectnost (CZ) + Supports: First Ever Uk Show!!!': 1,\n",
       "         'The Real People': 1,\n",
       "         'Cordelia': 1,\n",
       "         'Bridget Kearney': 1})"
      ]
     },
     "execution_count": 8,
     "metadata": {},
     "output_type": "execute_result"
    }
   ],
   "source": [
    "word_counter = collections.Counter(event_names)\n",
    "word_counter"
   ]
  },
  {
   "cell_type": "code",
   "execution_count": 9,
   "id": "31f926bc-165b-4ef8-ac40-099ed40bc37e",
   "metadata": {},
   "outputs": [
    {
     "data": {
      "text/plain": [
       "{'username': '31ajvtsyyhvd6spqbdqcwpeejddy',\n",
       " 'client_id': '937e2510865a4d758394db0ce9e2b2c6',\n",
       " 'client_secret': '5bc32758f4644a56bc98aaf5ad2fb1d5',\n",
       " 'redirect': 'https://google.com'}"
      ]
     },
     "execution_count": 9,
     "metadata": {},
     "output_type": "execute_result"
    }
   ],
   "source": [
    "cred =\"APIexample.json\"\n",
    "with open (cred, \"r\") as key_file:\n",
    "    api_tokens = json.load(key_file)\n",
    "key_file.close()\n",
    "api_tokens"
   ]
  },
  {
   "cell_type": "code",
   "execution_count": 10,
   "id": "82316f96-90af-4fd2-b7de-6be14686f89c",
   "metadata": {},
   "outputs": [],
   "source": [
    "client_id = api_tokens['client_id']\n",
    "client_secret = api_tokens['client_secret']\n",
    "redirect =api_tokens['redirect']\n",
    "username =api_tokens['username']"
   ]
  },
  {
   "cell_type": "code",
   "execution_count": 11,
   "id": "3ede6146-f0c9-4f0b-9d6e-317e11d017fc",
   "metadata": {},
   "outputs": [],
   "source": [
    "scope = 'user-read-private user-read-playback-state user-modify-playback-state playlist-modify-public user-library-read'\n",
    "token = util.prompt_for_user_token(username, scope, client_id,\n",
    "                           client_secret,\n",
    "                           redirect_uri=redirect)"
   ]
  },
  {
   "cell_type": "code",
   "execution_count": 12,
   "id": "91b424bc-d8c5-4c96-97c2-0346b5c61eec",
   "metadata": {},
   "outputs": [],
   "source": [
    "sp = spotipy.Spotify(auth=token)"
   ]
  },
  {
   "cell_type": "code",
   "execution_count": 13,
   "id": "a9931d0a-f747-4a8b-a0cb-c9643f4c3351",
   "metadata": {},
   "outputs": [
    {
     "name": "stdout",
     "output_type": "stream",
     "text": [
      "['spotify:track:3USxtqRwSYz57Ewm6wWRMp', 'spotify:track:37adYGaYaAWTGhBaOzX4Fh', 'spotify:track:6Bi1Y7TD70eWTCKn7jsQQm', 'spotify:track:2mBNIt6P5TPuly5JdKUPzH', 'spotify:track:2y9KcZvNwOd6kEddz9YjLT', 'spotify:track:5GtTdg5XdVYzp0sQjQvkRm', 'spotify:track:5J8svDT4ZcrVVzN74yN8V7', 'spotify:track:7nByEVH8LeatZOdYGGwe6X', 'spotify:track:3igAHklZGiKqq5cKjrs4Cf', 'spotify:track:6VTpPuujwK8TXV8VtWVJRA', 'spotify:track:714x0WqdnrFN42AvC0mFfY', 'spotify:track:47QDvqfpUTIGckdCacLd8P', 'spotify:track:3j3AQiQEe24de1EcYqVxc3', 'spotify:track:18ZRmY7kNZQQHpopsSVxwJ', 'spotify:track:5QfJs8NYlokYCxOb9TLGep', 'spotify:track:31DUHWlljrk41IsZXsVlRX', 'spotify:track:0jN4B1dliv8ypd2DMsqclK', 'spotify:track:0AQHfKjzky28rf5ytfBANJ', 'spotify:track:5t3oszlshIPTzpAwcCMqgw', 'spotify:track:3J7xAcSC9UGaJDANSUBJpy', 'spotify:track:3w3AtZ1jXsTlT2bfSkM0mz', 'spotify:track:66TRwr5uJwPt15mfFkzhbi', 'spotify:track:4UStbwukuV0qyASliTscls', 'spotify:track:3bHHCub5GX2FxND5sbbNKf', 'spotify:track:5gPKKLIHcsJ4sxzfgiBlGr', 'spotify:track:3dTvTTc3cJockwtRPQR8WZ', 'spotify:track:2GjG2f9oKPjGDK2mgQiIdy', 'spotify:track:78i6AUQv9Hp1BAQY6VCaCP', 'spotify:track:3ARUWZ4hryYXhp6X7KHcaD', 'spotify:track:36GzQOUolkwjdrMyHGRNkR']\n"
     ]
    }
   ],
   "source": [
    "songs_for_playlist = []\n",
    "\n",
    "# Add a specific track for Glass Animals\n",
    "glass_animals_tracks = sp.search(q=\"Glass Animals\", type=\"track\", limit=3)\n",
    "if glass_animals_tracks['tracks']['items']:\n",
    "    # Add the first 3 tracks found for Glass Animals\n",
    "    songs_for_playlist.extend(track['uri'] for track in glass_animals_tracks['tracks']['items'][:3])\n",
    "\n",
    "# Search for songs based on event names, ensuring no duplicates\n",
    "for event in event_names:\n",
    "    search_results = sp.search(q=event, type=\"track\", limit=1)\n",
    "    if search_results['tracks']['items']:\n",
    "        song_uri = search_results['tracks']['items'][0]['uri']\n",
    "        if song_uri not in songs_for_playlist:  # Avoid duplicates\n",
    "            songs_for_playlist.append(song_uri)\n",
    "\n",
    "# Ensure the playlist has at most 30 songs\n",
    "if len(songs_for_playlist) > 30:\n",
    "    songs_for_playlist = songs_for_playlist[:30]\n",
    "\n",
    "# Print the final list of song URIs\n",
    "print(songs_for_playlist)"
   ]
  },
  {
   "cell_type": "code",
   "execution_count": 14,
   "id": "2e6de754-d5c0-45bd-a595-6c104169fae0",
   "metadata": {},
   "outputs": [
    {
     "name": "stdout",
     "output_type": "stream",
     "text": [
      "{'snapshot_id': 'AAAAAs9W9VmUjFUQAU07RVrUheVmxtZf'}\n"
     ]
    }
   ],
   "source": [
    "my_playlist = sp.user_playlist_create(user=username, name=\"This Week London Music\", public=True,\n",
    "                                      description=\"Songs for this week concert and event music in L\")\n",
    "results = sp.user_playlist_add_tracks(username, my_playlist['id'], songs_for_playlist)\n",
    "print(results)"
   ]
  },
  {
   "cell_type": "code",
   "execution_count": 15,
   "id": "06fea54c-7d8d-4c8b-9829-78fe23ed8ec5",
   "metadata": {},
   "outputs": [
    {
     "data": {
      "text/plain": [
       "True"
      ]
     },
     "execution_count": 15,
     "metadata": {},
     "output_type": "execute_result"
    }
   ],
   "source": [
    "webbrowser.open(my_playlist['external_urls']['spotify'])"
   ]
  },
  {
   "cell_type": "code",
   "execution_count": null,
   "id": "3e967334-a862-478e-bfaa-ba3ab170aa59",
   "metadata": {},
   "outputs": [],
   "source": []
  }
 ],
 "metadata": {
  "kernelspec": {
   "display_name": "Python 3 (ipykernel)",
   "language": "python",
   "name": "python3"
  },
  "language_info": {
   "codemirror_mode": {
    "name": "ipython",
    "version": 3
   },
   "file_extension": ".py",
   "mimetype": "text/x-python",
   "name": "python",
   "nbconvert_exporter": "python",
   "pygments_lexer": "ipython3",
   "version": "3.12.7"
  }
 },
 "nbformat": 4,
 "nbformat_minor": 5
}
